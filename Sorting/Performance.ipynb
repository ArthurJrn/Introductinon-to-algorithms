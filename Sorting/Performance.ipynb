{
 "cells": [
  {
   "cell_type": "markdown",
   "metadata": {},
   "source": [
    "# Performance comparison of the different sorting algorithms"
   ]
  },
  {
   "cell_type": "markdown",
   "metadata": {},
   "source": [
    "In this notebook, we're analazing the performance of the sorting algorithms we implemented earlier: bubblesort, merge sort, fusion sort, quick sort, insertion sort, selection sort. We plot the time of execution."
   ]
  },
  {
   "cell_type": "code",
   "execution_count": 1,
   "metadata": {},
   "outputs": [],
   "source": [
    "import timeit\n",
    "import numpy as np\n",
    "import matplotlib.pyplot as plt\n",
    "import random"
   ]
  },
  {
   "cell_type": "markdown",
   "metadata": {},
   "source": [
    "We can import the desired function too, but in order to apply some modifications I decided to re-write them in this notebook as they are pretty simple."
   ]
  },
  {
   "cell_type": "code",
   "execution_count": 2,
   "metadata": {},
   "outputs": [],
   "source": [
    "def InsertionSort(array):\n",
    "    \"\"\"\n",
    "        Sorts an array using the insertion sort algorithm\n",
    "        Input: array, 1D\n",
    "        Output; the same array, sorted\n",
    "    \"\"\"\n",
    "    cpt = 0\n",
    "    for ind, elt in enumerate(array):\n",
    "        i = ind -1\n",
    "        while i >= 0 and array[i]>elt:\n",
    "            cpt+=1\n",
    "            array[i+1] = array[i]\n",
    "            i-=1\n",
    "        array[i+1] = elt\n",
    "\n",
    "    return array"
   ]
  },
  {
   "cell_type": "code",
   "execution_count": 3,
   "metadata": {},
   "outputs": [],
   "source": [
    "def Bubblesort(array):\n",
    "    \"\"\"\n",
    "        Sorts an array using the bublesort algorithm\n",
    "        Input: array, 1D\n",
    "        Output: the same array, sorted\n",
    "    \"\"\"\n",
    "    n = len(array)\n",
    "    cpt = 0\n",
    "    for i in range(n-1):\n",
    "        for j in range(n-1, i, -1):\n",
    "            if array[j] < array[j-1]:\n",
    "                cpt +=2\n",
    "                array[j-1], array[j] = array[j], array[j-1]\n",
    "    return array"
   ]
  },
  {
   "cell_type": "markdown",
   "metadata": {},
   "source": [
    "Now we are ready to plot the time complexity: time of execution in fonction of the length of the list to sort. For comparaison, we also plot the time complexity of the sort() method already implemented in Python. We will perform this benchmark using random lists, from size 1 to 1000 and one list per size. We will use the built-in module timeit, which create a virutal environment where it computes the time of execution of a given number of calls to the function (defaut is 1e6 but since we have quadratic function we choose 1000)."
   ]
  },
  {
   "cell_type": "code",
   "execution_count": 4,
   "metadata": {
    "scrolled": true
   },
   "outputs": [
    {
     "data": {
      "image/png": "[encoded data removed]",
      "text/plain": [
       "<Figure size 432x288 with 1 Axes>"
      ]
     },
     "metadata": {
      "needs_background": "light"
     },
     "output_type": "display_data"
    }
   ],
   "source": [
    "# Timeit makes it hard for funtions with arguments so we use a wrapper\n",
    "\n",
    "def wrapper(func, *args, **kwargs):\n",
    "    def wrapped():\n",
    "        return func(*args, **kwargs)\n",
    "    return wrapped\n",
    "\n",
    "\n",
    "# Choose the max value inside a list\n",
    "MaxValue = 1000\n",
    "\n",
    "def PlotTimeComplexity(MaxSize):\n",
    "    \n",
    "    # Initialize the vector of time execution\n",
    "    y_insertion =[]\n",
    "    y_bubble = []\n",
    "    y_sort = []\n",
    "\n",
    "    # Create the x axis\n",
    "    x = [i for i in range(MaxSize)]\n",
    "\n",
    "    # Let's compare our algorithms ! First create the lists\n",
    "    for i in range(MaxSize):\n",
    "        l = [random.randint(0, MaxValue) for j in range(i)]\n",
    "        wrapped1 = wrapper(InsertionSort, l)\n",
    "        t1 = timeit.timeit(wrapped1, number=1000)\n",
    "        wrapped2 = wrapper(Bubblesort, l)\n",
    "        t2 = timeit.timeit(wrapped2, number=1000)\n",
    "        wrapped3 = wrapper(sorted, l)\n",
    "        t3 = timeit.timeit(wrapped3, number=1000)\n",
    "        y_insertion.append(t1)\n",
    "        y_bubble.append(t2)\n",
    "        y_sort.append(t3)\n",
    "\n",
    "    # Now we can plot \n",
    "\n",
    "    plt.plot(x, y_insertion, 'o')\n",
    "    plt.plot(x, y_bubble, 'o')\n",
    "    plt.plot(x, y_sort, 'o')\n",
    "    plt.legend(('Insertion Sort', 'Bubble Sort', 'Sorted Method'),loc='upper left')\n",
    "    plt.title('Time Complexity')\n",
    "    plt.xlabel('Length of the list')\n",
    "    plt.ylabel('Time of execution')\n",
    "    plt.show()\n",
    "    \n",
    "PlotTimeComplexity(100)\n",
    "    \n"
   ]
  },
  {
   "cell_type": "markdown",
   "metadata": {},
   "source": [
    "As we can see, Bubble sort is very inefficient, even for relatively small list compared to the insertion sort and the sorted method. Let's try with longer lists to see the difference between the sorted method and the insertion sort."
   ]
  },
  {
   "cell_type": "code",
   "execution_count": null,
   "metadata": {},
   "outputs": [],
   "source": [
    "PlotTimeComplexity(500)"
   ]
  },
  {
   "cell_type": "markdown",
   "metadata": {},
   "source": [
    "The results are pretty clear."
   ]
  }
 ],
 "metadata": {
  "kernelspec": {
   "display_name": "Python 3",
   "language": "python",
   "name": "python3"
  },
  "language_info": {
   "codemirror_mode": {
    "name": "ipython",
    "version": 3
   },
   "file_extension": ".py",
   "mimetype": "text/x-python",
   "name": "python",
   "nbconvert_exporter": "python",
   "pygments_lexer": "ipython3",
   "version": "3.5.2"
  }
 },
 "nbformat": 4,
 "nbformat_minor": 2
}
